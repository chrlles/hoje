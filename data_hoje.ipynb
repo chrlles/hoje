{
 "cells": [
  {
   "cell_type": "code",
   "execution_count": 8,
   "id": "ba2ea150",
   "metadata": {},
   "outputs": [
    {
     "name": "stdout",
     "output_type": "stream",
     "text": [
      "Que dia é hoje? terça\n",
      "Hoje é terça-feira, Ok?\n"
     ]
    }
   ],
   "source": [
    "data = input('Que dia é hoje? ')\n",
    "print(f'Hoje é {data}-feira, Ok?')"
   ]
  },
  {
   "cell_type": "code",
   "execution_count": 8,
   "id": "0c287d29",
   "metadata": {},
   "outputs": [
    {
     "name": "stdout",
     "output_type": "stream",
     "text": [
      "Que dia é hoje? terça\n",
      "Hoje é terça-feira, Ok?\n"
     ]
    }
   ],
   "source": [
    "data = input('Que dia é hoje? ')\n",
    "print(f'Hoje é {data}-feira, Ok?')"
   ]
  },
  {
   "cell_type": "code",
   "execution_count": 9,
   "id": "622c7c38",
   "metadata": {},
   "outputs": [],
   "source": [
    "from datetime import datetime"
   ]
  },
  {
   "cell_type": "code",
   "execution_count": 37,
   "id": "7d854c0d",
   "metadata": {},
   "outputs": [
    {
     "name": "stdout",
     "output_type": "stream",
     "text": [
      "2022-03-24 20:55:44.569875\n"
     ]
    }
   ],
   "source": [
    "hoje = datetime.now()\n",
    "print(hoje)"
   ]
  },
  {
   "cell_type": "code",
   "execution_count": 20,
   "id": "c5857231",
   "metadata": {},
   "outputs": [
    {
     "name": "stdout",
     "output_type": "stream",
     "text": [
      "Hoje é quinta-feira, data: 2022-03-24\n"
     ]
    }
   ],
   "source": [
    "print(f'Hoje é quinta-feira, data: {hoje:%Y-%m-%d}')"
   ]
  },
  {
   "cell_type": "code",
   "execution_count": 19,
   "id": "e5262298",
   "metadata": {},
   "outputs": [
    {
     "name": "stdout",
     "output_type": "stream",
     "text": [
      "Hoje é quinta-feira, data: 24/03/2022\n"
     ]
    }
   ],
   "source": [
    "print(f'Hoje é quinta-feira, data: {hoje:%d/%m/%Y}')"
   ]
  },
  {
   "cell_type": "code",
   "execution_count": 23,
   "id": "3f29ab11",
   "metadata": {},
   "outputs": [
    {
     "name": "stdout",
     "output_type": "stream",
     "text": [
      "Que dia é hoje? Quinta\n",
      "Hoje é Quinta-feira, dia: 24/03/2022\n"
     ]
    }
   ],
   "source": [
    "data_hoje = input('Que dia é hoje? ')\n",
    "print(f'Hoje é {data_hoje}-feira, dia: {hoje:%d/%m/%Y}')"
   ]
  },
  {
   "cell_type": "code",
   "execution_count": 38,
   "id": "2aeee0d1",
   "metadata": {},
   "outputs": [
    {
     "name": "stdout",
     "output_type": "stream",
     "text": [
      "Que dia é hoje? quinta\n",
      "Hoje é quinta-feira,\n",
      "dia: 24/03/2022,\n",
      "Horário: 20:55:44\n"
     ]
    }
   ],
   "source": [
    "data_hoje = input('Que dia é hoje? ')\n",
    "print(f'Hoje é {data_hoje}-feira,\\ndia: {hoje:%d/%m/%Y},\\nHorário: {hoje:%H:%M:%S}')"
   ]
  },
  {
   "cell_type": "code",
   "execution_count": null,
   "id": "e91baf04",
   "metadata": {},
   "outputs": [],
   "source": []
  }
 ],
 "metadata": {
  "kernelspec": {
   "display_name": "Python 3",
   "language": "python",
   "name": "python3"
  },
  "language_info": {
   "codemirror_mode": {
    "name": "ipython",
    "version": 3
   },
   "file_extension": ".py",
   "mimetype": "text/x-python",
   "name": "python",
   "nbconvert_exporter": "python",
   "pygments_lexer": "ipython3",
   "version": "3.8.8"
  }
 },
 "nbformat": 4,
 "nbformat_minor": 5
}
